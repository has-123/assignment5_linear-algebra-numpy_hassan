{
  "cells": [
    {
      "cell_type": "markdown",
      "metadata": {
        "id": "IIvMCWOaIr2_"
      },
      "source": [
        "## Write a Numpy program to compute the multiplication of two given matrixes"
      ]
    },
    {
      "cell_type": "code",
      "execution_count": null,
      "metadata": {
        "colab": {
          "base_uri": "https://localhost:8080/"
        },
        "id": "gh_yUYJrIr3C",
        "outputId": "5b2cc477-0e28-4abb-89dc-afa9ca6e6393"
      },
      "outputs": [
        {
          "output_type": "stream",
          "name": "stdout",
          "text": [
            "[[[ 2  4  6]\n",
            "  [ 8 10 12]\n",
            "  [14 16 18]]\n",
            "\n",
            " [[20 22 24]\n",
            "  [26 28 30]\n",
            "  [32 34 36]]\n",
            "\n",
            " [[38 40 42]\n",
            "  [44 46 48]\n",
            "  [50 52 54]]]\n",
            "[[[  1   4   9]\n",
            "  [ 16  25  36]\n",
            "  [ 49  64  81]]\n",
            "\n",
            " [[100 121 144]\n",
            "  [169 196 225]\n",
            "  [256 289 324]]\n",
            "\n",
            " [[361 400 441]\n",
            "  [484 529 576]\n",
            "  [625 676 729]]]\n"
          ]
        }
      ],
      "source": [
        "import numpy as np\n",
        "B = np.array([[[1,2,3], [4,5,6], [7,8,9]],\n",
        "              [[10,11,12], [13,14,15], [16,17,18]],\n",
        "              [[19,20,21], [22,23,24], [25,26,27]]])\n",
        "C = np.array([[[1,2,3], [4,5,6], [7,8,9]],\n",
        "              [[10,11,12], [13,14,15], [16,17,18]],\n",
        "              [[19,20,21], [22,23,24], [25,26,27]]])\n",
        "D = B + C\n",
        "X = B * C\n",
        "print(D)\n",
        "print(X)"
      ]
    },
    {
      "cell_type": "code",
      "execution_count": null,
      "metadata": {
        "id": "n0n6hsukIr3E"
      },
      "outputs": [],
      "source": []
    },
    {
      "cell_type": "markdown",
      "metadata": {
        "id": "In9fdW0LIr3E"
      },
      "source": [
        "## Write a NumPy program to compute the determinant of a given square array"
      ]
    },
    {
      "cell_type": "code",
      "execution_count": null,
      "metadata": {
        "colab": {
          "base_uri": "https://localhost:8080/"
        },
        "id": "MEIZlQlhIr3F",
        "outputId": "9bef20f1-cf73-4769-ecd0-976b15e94ad7"
      },
      "outputs": [
        {
          "output_type": "stream",
          "name": "stdout",
          "text": [
            "[[ 1  2  3]\n",
            " [ 4  5  6]\n",
            " [ 7 14  9]]\n",
            "36.0\n"
          ]
        }
      ],
      "source": [
        "import numpy as np\n",
        "A = np.array([[1,2,3],\n",
        "             [4,5,6],\n",
        "              [7,14,9]])\n",
        "C = np.linalg.det(A)\n",
        "print(A)\n",
        "print(C)"
      ]
    },
    {
      "cell_type": "code",
      "execution_count": null,
      "metadata": {
        "id": "nqXdfCJOIr3F"
      },
      "outputs": [],
      "source": []
    },
    {
      "cell_type": "markdown",
      "metadata": {
        "id": "ObhUrqFiIr3F"
      },
      "source": [
        "## Write a NumPy program to compute the cross product of two given vectors"
      ]
    },
    {
      "cell_type": "code",
      "execution_count": 2,
      "metadata": {
        "id": "_gxPV5IiIr3G",
        "colab": {
          "base_uri": "https://localhost:8080/"
        },
        "outputId": "159279fa-068e-430a-9d6a-79148b4ce2f8"
      },
      "outputs": [
        {
          "output_type": "stream",
          "name": "stdout",
          "text": [
            "[20 -4 -3]\n",
            "[-20   4   3]\n"
          ]
        }
      ],
      "source": [
        "import numpy as np\n",
        "\n",
        "#initialize arrays\n",
        "A = np.array([2, 7, 4])\n",
        "B = np.array([3, 9, 8])\n",
        "\n",
        "#compute cross product\n",
        "output1 = np.cross(A, B)\n",
        "output2 = np.cross(B, A)\n",
        "\n",
        "print(output1)\n",
        "print(output2)"
      ]
    },
    {
      "cell_type": "code",
      "execution_count": null,
      "metadata": {
        "id": "okFkkHxKIr3H"
      },
      "outputs": [],
      "source": []
    },
    {
      "cell_type": "markdown",
      "metadata": {
        "id": "J-De6oqQIr3H"
      },
      "source": [
        "## Write a NumPy program to compute the condition number of a given matrix"
      ]
    },
    {
      "cell_type": "code",
      "execution_count": 5,
      "metadata": {
        "id": "6ATfLfqMIr3I",
        "colab": {
          "base_uri": "https://localhost:8080/"
        },
        "outputId": "82d2efb1-172b-40b8-df0f-e5e296ff2bda"
      },
      "outputs": [
        {
          "output_type": "stream",
          "name": "stdout",
          "text": [
            "Original matrix:\n",
            "[[4 2 0]\n",
            " [3 1 2]\n",
            " [1 6 4]]\n",
            "Condition number of the matrix:\n",
            "5.347703616656448\n"
          ]
        }
      ],
      "source": [
        "matrix = np.array([[4, 2, 0], [3, 1, 2], [1, 6, 4]])\n",
        "  \n",
        "print(\"Original matrix:\")\n",
        "print(matrix)\n",
        "  \n",
        "# Output\n",
        "result =  np.linalg.cond(matrix)\n",
        "  \n",
        "print(\"Condition number of the matrix:\")\n",
        "print(result)"
      ]
    },
    {
      "cell_type": "code",
      "execution_count": null,
      "metadata": {
        "id": "tbSw8caXIr3I"
      },
      "outputs": [],
      "source": []
    },
    {
      "cell_type": "markdown",
      "metadata": {
        "id": "G-tpEaQiIr3I"
      },
      "source": [
        "## Write a NumPy program to compute the inverse of a given matrix"
      ]
    },
    {
      "cell_type": "code",
      "execution_count": 7,
      "metadata": {
        "id": "ZmneqGTVIr3J",
        "colab": {
          "base_uri": "https://localhost:8080/"
        },
        "outputId": "2e77263f-e8b3-41b3-a773-8959eba8afde"
      },
      "outputs": [
        {
          "output_type": "stream",
          "name": "stdout",
          "text": [
            "Original array is \n",
            "[[1 2 3]\n",
            " [4 9 6]\n",
            " [7 8 9]]\n",
            "Inverse array is \n",
            "[[-0.6875     -0.125       0.3125    ]\n",
            " [-0.125       0.25       -0.125     ]\n",
            " [ 0.64583333 -0.125      -0.02083333]]\n",
            "\n"
          ]
        }
      ],
      "source": [
        "arr = np.array([[1, 2, 3], \n",
        "                [4, 9, 6], \n",
        "                [7, 8, 9]])\n",
        "print(\"Original array is \")\n",
        "print(arr)\n",
        "inverse_array = np.linalg.inv(arr)\n",
        "print(\"Inverse array is \")\n",
        "print(inverse_array)\n",
        "print()"
      ]
    },
    {
      "cell_type": "code",
      "execution_count": null,
      "metadata": {
        "id": "ESs80gE1Ir3J"
      },
      "outputs": [],
      "source": []
    },
    {
      "cell_type": "code",
      "execution_count": null,
      "metadata": {
        "id": "ZmUGQx4IIr3J"
      },
      "outputs": [],
      "source": []
    }
  ],
  "metadata": {
    "kernelspec": {
      "display_name": "Python 3",
      "language": "python",
      "name": "python3"
    },
    "language_info": {
      "codemirror_mode": {
        "name": "ipython",
        "version": 3
      },
      "file_extension": ".py",
      "mimetype": "text/x-python",
      "name": "python",
      "nbconvert_exporter": "python",
      "pygments_lexer": "ipython3",
      "version": "3.7.3"
    },
    "colab": {
      "name": "assignment5_linear algebra numpy.ipynb",
      "provenance": [],
      "collapsed_sections": []
    }
  },
  "nbformat": 4,
  "nbformat_minor": 0
}